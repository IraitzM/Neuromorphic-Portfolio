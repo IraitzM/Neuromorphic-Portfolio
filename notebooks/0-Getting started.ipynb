{
 "cells": [
  {
   "cell_type": "markdown",
   "metadata": {},
   "source": [
    "# Getting started\n",
    "\n",
    "Just a simple example to check everything is working fine."
   ]
  },
  {
   "cell_type": "code",
   "execution_count": 2,
   "metadata": {},
   "outputs": [],
   "source": [
    "import numpy as np\n",
    "from lava.lib.optimization.problems.problems import QUBO\n",
    "from lava.lib.optimization.solvers.generic.solver import (\n",
    "        SolverConfig,\n",
    "        OptimizationSolver,\n",
    ")\n",
    "\n",
    "# Define QUBO problem\n",
    "q = np.array([[-5, 2, 4, 0],\n",
    "              [ 2,-3, 1, 0],\n",
    "              [ 4, 1,-8, 5],\n",
    "              [ 0, 0, 5,-6]])\n",
    "\n",
    "qubo = QUBO(q)\n",
    "\n",
    "# Solve using generic OptimizationSolver\n",
    "solver = OptimizationSolver(problem=qubo)\n",
    "config = SolverConfig(timeout=3000, target_cost=-50) #, backend=\"Loihi2\")\n",
    "solution = solver.solve(config=config)"
   ]
  },
  {
   "cell_type": "code",
   "execution_count": 4,
   "metadata": {},
   "outputs": [
    {
     "data": {
      "text/plain": [
       "array([1., 0., 0., 1.])"
      ]
     },
     "execution_count": 4,
     "metadata": {},
     "output_type": "execute_result"
    }
   ],
   "source": [
    "solution.best_state"
   ]
  }
 ],
 "metadata": {
  "kernelspec": {
   "display_name": ".venv",
   "language": "python",
   "name": "python3"
  },
  "language_info": {
   "codemirror_mode": {
    "name": "ipython",
    "version": 3
   },
   "file_extension": ".py",
   "mimetype": "text/x-python",
   "name": "python",
   "nbconvert_exporter": "python",
   "pygments_lexer": "ipython3",
   "version": "3.10.12"
  }
 },
 "nbformat": 4,
 "nbformat_minor": 2
}
