{
 "cells": [
  {
   "cell_type": "code",
   "execution_count": 2,
   "metadata": {},
   "outputs": [
    {
     "data": {
      "text/plain": [
       "array([[-21,   3,   3,   6,   6,   3],\n",
       "       [  3,  -9,   1,   2,   2,   1],\n",
       "       [  3,   1,  -9,   2,   2,   1],\n",
       "       [  6,   2,   2, -16,   4,   2],\n",
       "       [  6,   2,   2,   4, -16,   2],\n",
       "       [  3,   1,   1,   2,   2,  -9]])"
      ]
     },
     "execution_count": 2,
     "metadata": {},
     "output_type": "execute_result"
    }
   ],
   "source": [
    "import numpy as np\n",
    "import qubogen\n",
    "\n",
    "s = np.array([3,1,1,2,2,1])\n",
    "q = qubogen.qubo_number_partition(s)\n",
    "q"
   ]
  },
  {
   "cell_type": "code",
   "execution_count": 3,
   "metadata": {},
   "outputs": [
    {
     "name": "stderr",
     "output_type": "stream",
     "text": [
      "/home/iraitz/Documentos/Projects/Neuromorphic-Portfolio/.venv/lib/python3.10/site-packages/lava/utils/profiler.py:16: UserWarning: Loihi2HWProfiler could not be imported. Currently no profiler is available.\n",
      "  warnings.warn(\"Loihi2HWProfiler could not be imported. \"\n"
     ]
    }
   ],
   "source": [
    "from lava.lib.optimization.problems.problems import QUBO\n",
    "from lava.lib.optimization.solvers.generic.solver import (\n",
    "        SolverConfig,\n",
    "        OptimizationSolver,\n",
    ")\n",
    "\n",
    "# Define QUBO problem\n",
    "qubo = QUBO(q)\n",
    "\n",
    "# Solve using generic OptimizationSolver\n",
    "solver = OptimizationSolver(problem=qubo)\n",
    "config = SolverConfig(timeout=3000, target_cost=-50) #, backend=\"Loihi2\")\n",
    "solution = solver.solve(config=config)"
   ]
  },
  {
   "cell_type": "code",
   "execution_count": 12,
   "metadata": {},
   "outputs": [
    {
     "data": {
      "text/plain": [
       "array([1, 1, 2, 1])"
      ]
     },
     "execution_count": 12,
     "metadata": {},
     "output_type": "execute_result"
    }
   ],
   "source": [
    "s[solution.best_state.astype(bool)]"
   ]
  },
  {
   "cell_type": "code",
   "execution_count": 13,
   "metadata": {},
   "outputs": [
    {
     "data": {
      "text/plain": [
       "array([3, 2])"
      ]
     },
     "execution_count": 13,
     "metadata": {},
     "output_type": "execute_result"
    }
   ],
   "source": [
    "s[~solution.best_state.astype(bool)]"
   ]
  }
 ],
 "metadata": {
  "kernelspec": {
   "display_name": ".venv",
   "language": "python",
   "name": "python3"
  },
  "language_info": {
   "codemirror_mode": {
    "name": "ipython",
    "version": 3
   },
   "file_extension": ".py",
   "mimetype": "text/x-python",
   "name": "python",
   "nbconvert_exporter": "python",
   "pygments_lexer": "ipython3",
   "version": "3.10.12"
  }
 },
 "nbformat": 4,
 "nbformat_minor": 2
}
